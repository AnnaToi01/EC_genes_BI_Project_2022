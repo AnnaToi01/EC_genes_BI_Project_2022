{
 "cells": [
  {
   "cell_type": "markdown",
   "id": "3dd2b9bb",
   "metadata": {},
   "source": [
    "# Analysis of OrthoFinder results\n",
    "\n",
    "Objectives:\n",
    "1. Find the orthogroups that include genes EC1.1 and EC1.2 and isolate the orthologs, along with corresponding species\n",
    "2. Write the FASTA amino acid sequence of these genes into a separate file\n",
    "3. Find the upstream sequence\n",
    "\n",
    "Folder structure:\n",
    "* Current folder - results of OrthoFinder - `Orthogroup.tsv` from each run, renamed to `orthogroups_i.tsv`, where i corresponds to the number of the group\n",
    "* Folders in current folder:\n",
    "    * protein/ - folder with Amino Acid FASTA sequences\n",
    "    * annotation/ - folder with annotations\n",
    "    * genome/ - folder with genomes"
   ]
  },
  {
   "cell_type": "markdown",
   "id": "0837a26f",
   "metadata": {},
   "source": [
    "Versions:\n",
    "* OrthoFinder - v2.5.4\n",
    "* Python - 3.8.8\n",
    "* pandas - 1.4.1\n",
    "* biopython - 1.79"
   ]
  },
  {
   "cell_type": "code",
   "execution_count": 363,
   "id": "97ef6b01",
   "metadata": {},
   "outputs": [],
   "source": [
    "# Python standard libraries\n",
    "from functools import reduce\n",
    "import itertools\n",
    "import os\n",
    "import re\n",
    "\n",
    "# Python additional libraries\n",
    "import pandas as pd\n",
    "from Bio import SeqIO"
   ]
  },
  {
   "cell_type": "markdown",
   "id": "01657be7",
   "metadata": {},
   "source": [
    "Writing the function that takes the `Orthogroup.tsv` from the folder `Orthogroups` in the OrthoFinder Result output and saves the results. For each group, the `Orthogroup.tsv` has been renamed to `orthogroups_i.tsv`, where i corresponds to the number of the group."
   ]
  },
  {
   "cell_type": "code",
   "execution_count": 364,
   "id": "34619311",
   "metadata": {},
   "outputs": [],
   "source": [
    "def find_ec_orthogroup(path_to_orthogroup_tsv, path_to_output_tsv):\n",
    "    \"\"\"\n",
    "    Takes the resulting Orthogroups.tsv file from OrthoFinder and returns the .tsv file with EC gene orthogroups\n",
    "    :param path_to_orthogroup_tsv: str, path to  .tsv file\n",
    "    :param path_to_output_tsv: str, path to output .tsv file\n",
    "    :return: None, saves the output as .tsv\n",
    "    \"\"\"\n",
    "    o = pd.read_csv(path_to_orthogroup_tsv, sep='\\t')\n",
    "    ec1_row = -1\n",
    "    ec2_row = -1\n",
    "    # Find the indices of EC genes \n",
    "    for i, row in enumerate(o['Arabidopsis_thaliana.TAIR10.pep.all'].str.split(\",\")):\n",
    "        if type(row) == list:\n",
    "            for gene in row:\n",
    "                if gene.strip().split(\".\")[0] == \"AT1G76750\":\n",
    "                    ec1_row = i\n",
    "                elif gene.strip().split(\".\")[0] == \"AT2G21740\":\n",
    "                    ec2_row = i\n",
    "    # If both EC genes in one orthogroup\n",
    "    if ec1_row == ec2_row:\n",
    "        o.iloc[[ec1_row]].to_csv(path_to_output_tsv, sep=\"\\t\")\n",
    "        return o.iloc[[ec1_row]]\n",
    "    else:\n",
    "        if ec1_row >= 0 and ec2_row >= 0:\n",
    "            # Select rows with the EC genes\n",
    "            o_ec = o.iloc[[ec1_row, ec2_row]]\n",
    "            # Saving the orthologs as a result\n",
    "            o_ec.to_csv(path_to_output_tsv, sep=\"\\t\")\n",
    "            # No NANs in rows -> combine the orthogroups of two EC genes\n",
    "            o_ec.loc[ec1_row, ~o_ec.isnull().any(axis=0)] = o_ec.loc[ec1_row, ~o_ec.isnull().any(axis=0)] + \", \" + o_ec.loc[ec2_row, ~o_ec.isnull().any(axis=0)]\n",
    "            # Select part of dataframe where there are Nans\n",
    "            o_ec_nan = o_ec.loc[o_ec.isnull().any(axis=1), o_ec.isnull().any(axis=0)]       \n",
    "            # Combine the Nan values into one row (Series)\n",
    "            # If the Nan values are in two rows, two different orthogroups\n",
    "            if len(o_ec_nan) > 1:\n",
    "                \n",
    "                o_ec.loc[ec1_row, o_ec.isnull().any(axis=0)] = o_ec_nan.iloc[0].combine_first(o_ec_nan.iloc[1])\n",
    "            # If all of them in one row\n",
    "            elif len(o_ec_nan) == 1:\n",
    "                o_ec.loc[ec1_row, o_ec.isnull().any(axis=0)] = o_ec.loc[~o_ec.isnull().any(axis=1), o_ec.isnull().any(axis=0)].squeeze()\n",
    "            return o_ec.loc[[ec1_row]]\n",
    "        # If only EC1.1 found\n",
    "        elif ec1_row >= 0:\n",
    "            o.iloc[[ec1_row]].to_csv(path_to_output_tsv, sep=\"\\t\")\n",
    "            return o.iloc[[ec1_row]]\n",
    "        # If only EC1.2 found\n",
    "        elif ec2_row >= 0:\n",
    "            o.iloc[[ec2_row]].to_csv(path_to_output_tsv, sep=\"\\t\")\n",
    "            return o.iloc[[ec2_row]]\n"
   ]
  },
  {
   "cell_type": "markdown",
   "id": "3212f2b3",
   "metadata": {},
   "source": [
    "`orthogroups_i.tsv` (i from 1 to 7) are output of the Orthofinder for each of 7 groups."
   ]
  },
  {
   "cell_type": "code",
   "execution_count": 365,
   "id": "f8182bbf",
   "metadata": {},
   "outputs": [
    {
     "name": "stderr",
     "output_type": "stream",
     "text": [
      "<ipython-input-364-9022e7025c52>:30: SettingWithCopyWarning: \n",
      "A value is trying to be set on a copy of a slice from a DataFrame\n",
      "\n",
      "See the caveats in the documentation: https://pandas.pydata.org/pandas-docs/stable/user_guide/indexing.html#returning-a-view-versus-a-copy\n",
      "  o_ec.loc[ec1_row, ~o_ec.isnull().any(axis=0)] = o_ec.loc[ec1_row, ~o_ec.isnull().any(axis=0)] + \", \" + o_ec.loc[ec2_row, ~o_ec.isnull().any(axis=0)]\n"
     ]
    }
   ],
   "source": [
    "# All dataframes\n",
    "dfs = []\n",
    "for i in range(1, 8):  \n",
    "    dfs.append(find_ec_orthogroup(f\"orthogroups_{i}.tsv\", f\"res_{i}.tsv\").drop([\"Orthogroup\"], axis=1))"
   ]
  },
  {
   "cell_type": "code",
   "execution_count": 366,
   "id": "76be0a0c",
   "metadata": {},
   "outputs": [],
   "source": [
    "# We unite all the species orthologues in one-row table based on Arabidopsis thaliana genes\n",
    "matching_ids = reduce(lambda x, y: pd.merge(x, y, on = \"Arabidopsis_thaliana.TAIR10.pep.all\"), dfs)\n",
    "# Select all columns without nan\n",
    "matching_ids = matching_ids[matching_ids.columns[~matching_ids.isnull().all()]]"
   ]
  },
  {
   "cell_type": "code",
   "execution_count": 367,
   "id": "d21d6f13",
   "metadata": {
    "scrolled": true
   },
   "outputs": [
    {
     "data": {
      "text/plain": [
       "['PSS26677',\n",
       " 'AT1G76750.1',\n",
       " 'AT2G21740.1',\n",
       " 'AT2G21750.1',\n",
       " 'AT4G39340.1',\n",
       " 'KZN08747',\n",
       " 'KZN08752',\n",
       " 'KJB57150',\n",
       " 'KJB60013',\n",
       " 'KJB71292',\n",
       " 'Kaladp0026s0134.1.v1.1.CDS.1',\n",
       " 'Kaladp0033s0187.1.v1.1.CDS.1',\n",
       " 'Kaladp0040s0523.1.v1.1.CDS.1',\n",
       " 'Kaladp0515s0048.1.v1.1',\n",
       " 'Ma06_p27500.1',\n",
       " 'Ma08_p15310.1',\n",
       " 'OIT31467',\n",
       " 'Os03t0296600-01',\n",
       " 'Os11t0168000-01',\n",
       " 'ESW18393',\n",
       " 'ESW28268',\n",
       " 'ESW31795',\n",
       " 'PNT12323',\n",
       " 'PNT20170',\n",
       " 'PNT46426',\n",
       " 'PNT57550',\n",
       " 'PNT57551',\n",
       " 'PNT58448',\n",
       " 'ONH89505',\n",
       " 'ONH90042',\n",
       " 'ONH90046',\n",
       " 'ONH90087',\n",
       " 'ONH90092',\n",
       " 'ONH90434',\n",
       " 'ONI01825',\n",
       " 'ERN08734',\n",
       " 'Aco003193.1.mrna1.cds1',\n",
       " 'Aco010349.1.mrna1',\n",
       " 'Aco016990.1.mrna1.cds1',\n",
       " 'Aco018685.1.mrna1.cds1',\n",
       " 'Aco019928.1.mrna1.cds1',\n",
       " 'Aco024757.1.mrna1.cds1',\n",
       " 'Aco024977.1.mrna1.cds1',\n",
       " 'Aco029478.1.mrna1.cds1',\n",
       " 'Aco031263.1.mrna1.cds1',\n",
       " 'cds.evm.model.01.1369',\n",
       " 'cds.evm.model.04.1284',\n",
       " 'CDP12837',\n",
       " 'KGN46138',\n",
       " 'KGN64837',\n",
       " 'KGN64838',\n",
       " 'KRG91676',\n",
       " 'KRG98863',\n",
       " 'KRH35123',\n",
       " 'KRH39377',\n",
       " 'KRH43377',\n",
       " 'KRH54635',\n",
       " 'KRH59512',\n",
       " 'KRH63270',\n",
       " 'HORVU.MOREX.r3.4HG0349420.1.CDS1',\n",
       " 'HORVU.MOREX.r3.4HG0383940.1.CDS1',\n",
       " 'HORVU.MOREX.r3.7HG0732390.1.CDS1',\n",
       " 'HORVU.MOREX.r3.7HG0732420.1.CDS1',\n",
       " 'OE9A117531C1',\n",
       " 'RZC48302',\n",
       " 'RZC49191',\n",
       " 'RZC49225',\n",
       " 'RZC55249',\n",
       " 'RZC55281',\n",
       " 'RZC57075',\n",
       " 'RZC57081',\n",
       " 'RZC57082',\n",
       " 'RZC62099',\n",
       " 'RZC62100',\n",
       " 'RZC68602',\n",
       " 'RZC68605',\n",
       " 'RZC68710',\n",
       " 'KMT04640',\n",
       " 'KMT16083',\n",
       " 'Bo1g002490.1',\n",
       " 'Bo2g088760.1',\n",
       " 'Bo2g091120.1',\n",
       " 'Bo4g147120.1',\n",
       " 'Bo6g083750.1',\n",
       " 'Bo7g119230.1',\n",
       " 'Bo8g101500.1',\n",
       " 'DRNTG_09031.1.cds1',\n",
       " 'FCD_00011685-RA_cds',\n",
       " 'FCD_00011687-RA_cds',\n",
       " 'FCD_00028685-RA_cds',\n",
       " 'FCD_00030006-RA_cds',\n",
       " 'CDS_HanXRQr2_Chr02g0065241.1',\n",
       " 'CDS_HanXRQr2_Chr02g0065251.1',\n",
       " 'CDS_HanXRQr2_Chr02g0065281.1',\n",
       " 'CDS_HanXRQr2_Chr04g0158231.1',\n",
       " 'CDS_HanXRQr2_Chr12g0556091.1',\n",
       " 'CDS_HanXRQr2_Chr15g0699451.1',\n",
       " 'CDS_HanXRQr2_Chr15g0708181.1',\n",
       " 'cds.Jr15_01190_p1',\n",
       " 'OIW19997',\n",
       " 'OIW19998',\n",
       " 'OIW20030',\n",
       " 'RHC04H1G2339.2.1.cds.1',\n",
       " 'RHC11H1G0771.2.1.cds.1',\n",
       " 'RHC11H1G0775.2.1.cds.1',\n",
       " 'EER95019',\n",
       " 'EES16714',\n",
       " 'VIT_07s0031g02070.t01',\n",
       " 'VIT_09s0002g01570.t01',\n",
       " 'FtPinG0007730800.01.T01',\n",
       " 'OE9A117531C1',\n",
       " 'PEQU_28350.1',\n",
       " 'QL05p056248_mrna',\n",
       " 'QL06p031114_mrna_CDS_2',\n",
       " 'QL06p031123_mrna_CDS_1',\n",
       " 'QL10p018379_mrna_CDS_1',\n",
       " 'QL10p018382_mrna_CDS_2',\n",
       " 'QL10p018395_mrna_CDS_1',\n",
       " 'QL10p018398_mrna_CDS_1',\n",
       " 'QL11p027894_mrna_CDS_1',\n",
       " 'PRQ17678',\n",
       " 'PRQ24668',\n",
       " 'PRQ25531',\n",
       " 'PRQ25532',\n",
       " 'PRQ49241',\n",
       " 'PRQ49244',\n",
       " 'Solyc04g071640.1.1.1',\n",
       " 'Solyc11g005500.1.1.1',\n",
       " 'Solyc11g005540.1.1.1',\n",
       " 'EOX92363',\n",
       " 'EOY04380',\n",
       " 'EOY04381',\n",
       " 'EOY16769',\n",
       " 'EOY18917',\n",
       " 'EOY27508',\n",
       " 'TraesCS4A02G113600.1.cds1',\n",
       " 'TraesCS4A02G208200.1.cds1',\n",
       " 'TraesCS4B02G111900.1',\n",
       " 'TraesCS4B02G190500.1.cds1',\n",
       " 'TraesCS4D02G109400.1.cds1',\n",
       " 'TraesCS7A02G451500.1.cds1',\n",
       " 'TraesCS7A02G451600.1.cds1',\n",
       " 'TraesCS7B02G351300.1.cds1',\n",
       " 'TraesCS7B02G351400.1.cds1',\n",
       " 'TraesCS7D02G440400.1.cds1',\n",
       " 'TraesCS7D02G440500.1.cds1',\n",
       " 'Vradi01g10860.1',\n",
       " 'Vradi07g02140.1',\n",
       " 'ESR47720',\n",
       " 'jg50396.t1',\n",
       " 'itb04g21400.t1',\n",
       " 'itb05g22120.t1',\n",
       " 'itb06g24100.t1',\n",
       " 'cds-PLY89774.1',\n",
       " 'cds-PLY89992.1',\n",
       " 'CDS_MD01G0004200.1',\n",
       " 'CDS_MD10G0023400.1',\n",
       " 'OAY36032',\n",
       " 'OAY36033',\n",
       " 'NC11G0118510.1_cds',\n",
       " 'NC1G0017660.1_cds',\n",
       " 'NC4G0237690.1_cds',\n",
       " 'Zm00001eb396810_P001',\n",
       " 'Bradi1g65190.1.p',\n",
       " 'Bradi2g28070.1.p',\n",
       " 'Bradi4g24640.1.p',\n",
       " 'Csa07g048320.1.cds1',\n",
       " 'Csa07g048380.1.cds1',\n",
       " 'Csa09g081500.1.cds1',\n",
       " 'Csa16g040920.1.cds1',\n",
       " 'Csa27089s010.1.cds1',\n",
       " 'Csa07g051880.1',\n",
       " 'Csa07g051890.1.cds1',\n",
       " 'Csa09g086140.1.cds1',\n",
       " 'Csa09g086150.1.cds1',\n",
       " 'Csa10g002090.1.cds1',\n",
       " 'Csa11g002350.1.cds1',\n",
       " 'Csa12g002210.1.cds1',\n",
       " 'Csa16g043520.1.cds1',\n",
       " 'Csa16g043530.1',\n",
       " 'FvH4_2g13390.t1',\n",
       " 'FvH4_2g13400.t1',\n",
       " 'FvH4_2g18700.t1',\n",
       " 'FvH4_2g18870.t1',\n",
       " 'FvH4_2g18910.t1',\n",
       " 'FvH4_5g02500.t1',\n",
       " 'FvH4_1g23830.t1',\n",
       " 'FvH4_4g25660.t1',\n",
       " 'MD10G1029400',\n",
       " 'MD01G1001000',\n",
       " 'MD15G1340900',\n",
       " 'SIN_1019387.t.cds1',\n",
       " 'SIN_1014976.t.cds1',\n",
       " 'ESQ27444',\n",
       " 'ESQ46085',\n",
       " 'ESQ46086',\n",
       " 'ESQ53189',\n",
       " 'HORVU4Hr1G020010.1',\n",
       " 'HORVU4Hr1G020010.2',\n",
       " 'HORVU4Hr1G055410.2',\n",
       " 'HORVU4Hr1G055410.3',\n",
       " 'HORVU7Hr1G101980.1',\n",
       " 'HORVU7Hr1G102010.1',\n",
       " 'AES70181',\n",
       " 'AES70191',\n",
       " 'KEH21230']"
      ]
     },
     "execution_count": 367,
     "metadata": {},
     "output_type": "execute_result"
    }
   ],
   "source": [
    "# Flattening the list with all genes\n",
    "genes = [gene.strip() for sublist in list(matching_ids.iloc[0].str.split(\",\").values) for gene in sublist]\n",
    "genes"
   ]
  },
  {
   "cell_type": "markdown",
   "id": "97af545a",
   "metadata": {},
   "source": [
    "How many genes found?"
   ]
  },
  {
   "cell_type": "code",
   "execution_count": 368,
   "id": "16d4652a",
   "metadata": {},
   "outputs": [
    {
     "data": {
      "text/plain": [
       "206"
      ]
     },
     "execution_count": 368,
     "metadata": {},
     "output_type": "execute_result"
    }
   ],
   "source": [
    "len(genes)"
   ]
  },
  {
   "cell_type": "markdown",
   "id": "206e93b4",
   "metadata": {},
   "source": [
    "Here we extract the genes' FASTA amino acid sequences and write them into file `conc_protein_seq.fa`. For this purpose we have all of the `.pep.all.fa` sequences in the directory `protein/`. "
   ]
  },
  {
   "cell_type": "code",
   "execution_count": 369,
   "id": "736c8e1e",
   "metadata": {},
   "outputs": [
    {
     "name": "stdout",
     "output_type": "stream",
     "text": [
      "Actinidia_chinensis.Red5_PS1_1.69.0.pep.all.fa\r\n",
      "Amborella_trichopoda.AMTR1.0.pep.all.fa\r\n",
      "Ananas_comosus.F153.pep.all.fa\r\n",
      "Arabidopsis_thaliana.TAIR10.pep.all.fa\r\n",
      "Bdistachyon_314_v3.1.protein.fa\r\n",
      "Beta_vulgaris.RefBeet-1.2.2.pep.all.fa\r\n",
      "Brassica_oleracea.BOL.pep.all.fa\r\n",
      "Camelina_sativa.Cs.pep.all.fa\r\n",
      "Cannabis_sativa_female.cs10.pep.all.fa\r\n",
      "Citrus_clementina.Citrus_clementina_v1.0.pep.all.fa\r\n",
      "Coffea_canephora.AUK_PRJEB4211_v1.pep.all.fa\r\n",
      "Cucumis_sativus.ASM407v2.pep.all.fa\r\n",
      "Daucus_carota.ASM162521v1.pep.all.fa\r\n",
      "Dioscorea_rotundata.TDr96_F1_v2_PseudoChromosome.pep.all.fa\r\n",
      "Eucalyptus_grandis.Egrandis1_0.pep.all.fa\r\n",
      "Eutrema_salsugineum.Eutsalg1_0.pep.all.fa\r\n",
      "Fagopyrum_esculentum.pep.fa\r\n",
      "Fagopyrum_tataricum.pep.fa\r\n",
      "Ficus_carica.UNIPI_FiCari_1.0.pep.all.fa\r\n",
      "Fvesca_677_v4.0.a2.protein.fa\r\n",
      "Glycine_max.Glycine_max_v2.1.pep.all.fa\r\n",
      "Gossypium_raimondii.Graimondii2_0_v6.pep.all.fa\r\n",
      "Helianthus_annuus.HanXRQr2.0-SUNRISE.pep.all.fa\r\n",
      "Hordeum_vulgare.IBSC_v2.pep.all.fa\r\n",
      "Ipomoea_triloba.ASM357664v1.pep.all.fa\r\n",
      "Juglans_regia.Walnut_2.0.pep.all.fa\r\n",
      "Kalanchoe_fedtschenkoi.K_fedtschenkoi_M2_v1.pep.all.fa\r\n",
      "Lactuca_sativa.Lsat_Salinas_v7.pep.all.fa\r\n",
      "Lupinus_angustifolius.LupAngTanjil_v1.0.pep.all.fa\r\n",
      "Malus_domestica_golden.ASM211411v1.pep.all.fa\r\n",
      "Manihot_esculenta.Manihot_esculenta_v6.pep.all.fa\r\n",
      "Mdomestica_491_v1.1.protein.fa\r\n",
      "Medicago_truncatula.MedtrA17_4.0.pep.all.fa\r\n",
      "Musa_acuminata.Musa_acuminata_v2.pep.all.fa\r\n",
      "Nicotiana_attenuata.NIATTr2.pep.all.fa\r\n",
      "Nymphaea_colorata.ASM883128v1.pep.all.fa\r\n",
      "Olea_europaea.OLEA9.pep.all.fa\r\n",
      "Oryza_sativa.IRGSP-1.0.pep.all.fa\r\n",
      "Papaver_somniferum.ASM357369v1.pep.all.fa\r\n",
      "Phalaenopsis_equestris.pep.fa\r\n",
      "Phaseolus_vulgaris.PhaVulg1_0.pep.all.fa\r\n",
      "Populus_trichocarpa.Pop_tri_v3.pep.all.fa\r\n",
      "Prunus_persica.Prunus_persica_NCBIv2.pep.all.fa\r\n",
      "Quercus_lobata.ValleyOak3.0.pep.all.fa\r\n",
      "Rosa_chinensis.RchiOBHm-V2.pep.all.fa\r\n",
      "Sesamum_indicum.S_indicum_v1.0.pep.all.fa\r\n",
      "Solanum_lycopersicum.SL3.0.pep.all.fa\r\n",
      "Solanum_tuberosum_rh8903916.ASM1418947v1.pep.all.fa\r\n",
      "Sorghum_bicolor.Sorghum_bicolor_NCBIv3.pep.all.fa\r\n",
      "Theobroma_cacao.Theobroma_cacao_20110822.pep.all.fa\r\n",
      "Triticum_aestivum.IWGSC.pep.all.fa\r\n",
      "Vigna_radiata.Vradiata_ver6.pep.all.fa\r\n",
      "Vitis_vinifera.12X.pep.all.fa\r\n",
      "Zea_mays.Zm-B73-REFERENCE-NAM-5.0.pep.all.fa\r\n"
     ]
    }
   ],
   "source": [
    "!ls protein/"
   ]
  },
  {
   "cell_type": "code",
   "execution_count": 370,
   "id": "a87f6f57",
   "metadata": {},
   "outputs": [],
   "source": [
    "# IDs of genes\n",
    "ids = []\n",
    "# Species: according genes\n",
    "species_genes_dic = {}\n",
    "\n",
    "path_to_AA_FASTA_directory = \"protein/\"\n",
    "path_to_output_file = \"conc_protein_seq.fa\"\n",
    "\n",
    "# Delete the file if it already exists\n",
    "if os.path.exists(path_to_output_file):\n",
    "    os.remove(path_to_output_file)\n",
    "\n",
    "for file in os.listdir(\"protein\"):\n",
    "    with open(path_to_AA_FASTA_directory + file) as in_file, open(path_to_output_file, \"a\") as out_file:\n",
    "        for record in SeqIO.parse(in_file, \"fasta\"):\n",
    "            # If record ID in genes, then write it into FASTA file\n",
    "            if record.id in genes:\n",
    "                # Extracting gene names, in case explicitly stated\n",
    "                gene_split = record.description.split(\"gene:\")\n",
    "                # If gene: stated\n",
    "                if len(gene_split) > 1:\n",
    "                    species = file.split(\".\")[0]\n",
    "                    species_genes_dic[species] = species_genes_dic.get(species, []) + [gene_split[1].split(\" \")[0]]\n",
    "                # Else - gene name most probably the record id\n",
    "                else:\n",
    "                    species = file.split(\".\")[0]\n",
    "                    species_genes_dic[species] = species_genes_dic.get(species, []) + [record.id]\n",
    "                record.id += \"_\" + file.split(\".\")[0]\n",
    "                ids.append(record.id)\n",
    "                SeqIO.write(record, out_file, \"fasta\")\n",
    "            # Where : was changed to _ by OrthoFinder\n",
    "            elif file.startswith((\"Helianthus\", \"Nymphae\", \"Ficus\", \"Quercus\", \"Malus\")):\n",
    "                record.id = record.id.replace(\":\", \"_\")\n",
    "                if record.id in genes:\n",
    "                    gene_split = record.description.split(\"gene:\")\n",
    "                    if len(gene_split) > 1:\n",
    "                        species = file.split(\".\")[0]\n",
    "                        species_genes_dic[species] = species_genes_dic.get(species, []) + [gene_split[1].split(\" \")[0]]\n",
    "                    else:\n",
    "                        species = file.split(\".\")[0]\n",
    "                        species_genes_dic[species] = species_genes_dic.get(species, []) + [record.id]\n",
    "                    record.id += \"_\" + file.split(\".\")[0]\n",
    "                    ids.append(record.id)\n",
    "                    SeqIO.write(record, out_file, \"fasta\")"
   ]
  },
  {
   "cell_type": "code",
   "execution_count": 371,
   "id": "51606ac2",
   "metadata": {},
   "outputs": [],
   "source": [
    "species_genes_ids = list(itertools.chain.from_iterable(list(species_genes_dic.values())))"
   ]
  },
  {
   "cell_type": "code",
   "execution_count": 372,
   "id": "59e80d29",
   "metadata": {},
   "outputs": [
    {
     "data": {
      "text/plain": [
       "201"
      ]
     },
     "execution_count": 372,
     "metadata": {},
     "output_type": "execute_result"
    }
   ],
   "source": [
    "len(species_genes_ids)"
   ]
  },
  {
   "cell_type": "code",
   "execution_count": 373,
   "id": "8bbd2f58",
   "metadata": {},
   "outputs": [
    {
     "data": {
      "text/plain": [
       "201"
      ]
     },
     "execution_count": 373,
     "metadata": {},
     "output_type": "execute_result"
    }
   ],
   "source": [
    "len(ids)"
   ]
  },
  {
   "cell_type": "markdown",
   "id": "df4a9d58",
   "metadata": {},
   "source": [
    "Here we have 5 less genes, because the *Hordeum vulgare* Ensembl plants release 53 MorexV3 pseudomolecules assembly version amino acid sequence is not included, as its gene IDs could not be converted to transcriptome IDs. Instead, we use the release 52 genome, IBSC v2. "
   ]
  },
  {
   "cell_type": "markdown",
   "id": "c4abd632",
   "metadata": {},
   "source": [
    "Here, we add a missing gene from *Medicago truncatula*, which was discovered when having different 6th and 7th repeat groups, so previous OrthoFinder results. "
   ]
  },
  {
   "cell_type": "code",
   "execution_count": 374,
   "id": "9e883618",
   "metadata": {},
   "outputs": [
    {
     "data": {
      "text/plain": [
       "['MTR_8g099500', 'MTR_3g049180', 'MTR_3g049320', 'MTR_3g095330']"
      ]
     },
     "execution_count": 374,
     "metadata": {},
     "output_type": "execute_result"
    }
   ],
   "source": [
    "species_genes_dic['Medicago_truncatula'] += [\"MTR_3g095330\"]\n",
    "species_genes_dic['Medicago_truncatula']"
   ]
  },
  {
   "cell_type": "markdown",
   "id": "25cd4e10",
   "metadata": {},
   "source": [
    "Showing file contents, in case names don't match:"
   ]
  },
  {
   "cell_type": "code",
   "execution_count": 375,
   "id": "403f1de7",
   "metadata": {},
   "outputs": [
    {
     "name": "stdout",
     "output_type": "stream",
     "text": [
      "Actinidia_chinensis.Red5_PS1_1.69.0.52.gff3\r\n",
      "Amborella_trichopoda.AMTR1.0.52.gff3\r\n",
      "Arabidopsis_thaliana.TAIR10.52.gff3\r\n",
      "Bdistachyon_314_v3.1.gene.gff3\r\n",
      "Brassica_oleracea.BOL.52.gff3\r\n",
      "Camelina_sativa.Cs.52.gff3\r\n",
      "Cannabis_sativa_female.cs10.52.gff3\r\n",
      "Fvesca_677_v4.0.a2.gene.gff3\r\n",
      "Glycine_max.Glycine_max_v2.1.52.gff3\r\n",
      "Hordeum_vulgare.IBSC_v2.51.gff3\r\n",
      "Mdomestica_491_v1.1.gene.gff3\r\n",
      "Medicago_truncatula.MedtrA17_4.0.52.gff3\r\n",
      "Nicotiana_attenuata.NIATTr2.52.gff3\r\n",
      "Oryza_sativa.IRGSP-1.0.52.gff3\r\n",
      "Phalaenopsis_equestris.gff3\r\n",
      "Populus_trichocarpa.Pop_tri_v3.52.gff3\r\n",
      "Solanum_lycopersicum.SL3.0.52.gff3\r\n",
      "Solanum_tuberosum_rh8903916.ASM1418947v1.52.gff3\r\n",
      "Sorghum_bicolor.Sorghum_bicolor_NCBIv3.52.gff3\r\n",
      "Triticum_aestivum.IWGSC.52.gff3\r\n",
      "Vitis_vinifera.12X.52.gff3\r\n",
      "Zea_mays.Zm-B73-REFERENCE-NAM-5.0.52.gff3\r\n"
     ]
    }
   ],
   "source": [
    "!ls annotation/"
   ]
  },
  {
   "cell_type": "code",
   "execution_count": 376,
   "id": "4e20dbda",
   "metadata": {},
   "outputs": [
    {
     "name": "stdout",
     "output_type": "stream",
     "text": [
      "Actinidia_chinensis.Red5_PS1_1.69.0.dna_sm.toplevel.fa\r\n",
      "Amborella_trichopoda.AMTR1.0.dna_sm.toplevel.fa\r\n",
      "Arabidopsis_thaliana.TAIR10.dna_sm.toplevel.fa\r\n",
      "Bdistachyon_314_v3.0.softmasked.fa\r\n",
      "Brassica_oleracea.BOL.dna_sm.toplevel.fa\r\n",
      "Camelina_sativa.Cs.dna_sm.toplevel.fa\r\n",
      "Cannabis_sativa_female.cs10.dna_sm.toplevel.fa\r\n",
      "Fvesca_677_v4.0.a1.softmasked.fa\r\n",
      "Glycine_max.Glycine_max_v2.1.dna_sm.toplevel.fa\r\n",
      "Hordeum_vulgare.IBSC_v2.dna_sm.toplevel.fa\r\n",
      "Mdomestica_491_v1.1.fa\r\n",
      "Medicago_truncatula.MedtrA17_4.0.dna_sm.toplevel.fa\r\n",
      "Nicotiana_attenuata.NIATTr2.dna_sm.toplevel.fa\r\n",
      "Oryza_sativa.IRGSP-1.0.dna_sm.toplevel.fa\r\n",
      "Phalaenopsis_equestris.fa\r\n",
      "Populus_trichocarpa.Pop_tri_v3.dna_sm.toplevel.fa\r\n",
      "Solanum_lycopersicum.SL3.0.dna_sm.toplevel.fa\r\n",
      "Solanum_tuberosum_rh8903916.ASM1418947v1.dna_sm.toplevel.fa\r\n",
      "Sorghum_bicolor.Sorghum_bicolor_NCBIv3.dna_sm.toplevel.fa\r\n",
      "Triticum_aestivum.IWGSC.dna_sm.toplevel.fa\r\n",
      "Vitis_vinifera.12X.dna_sm.toplevel.fa\r\n",
      "Zea_mays.Zm-B73-REFERENCE-NAM-5.0.dna_sm.toplevel.fa\r\n"
     ]
    }
   ],
   "source": [
    "!ls genome/ "
   ]
  },
  {
   "cell_type": "code",
   "execution_count": 377,
   "id": "fae7f191",
   "metadata": {},
   "outputs": [],
   "source": [
    "def extract_annotation(line):\n",
    "    \"\"\"\n",
    "    Extracts contig id, start, end and strand direction of the gene from the GFF3 annotation line\n",
    "    :param line: str, tab-separated GFF3 annotation line\n",
    "    :return: list, of contig ID, start, end and strand direction\n",
    "    \"\"\"\n",
    "    line_components = line.split(\"\\t\")\n",
    "    contig_id = line_components[0]\n",
    "    start = int(line_components[3])\n",
    "    end = int(line_components[4])\n",
    "    strand_direction = line_components[6]\n",
    "    return [contig_id, start, end, strand_direction]"
   ]
  },
  {
   "cell_type": "code",
   "execution_count": 378,
   "id": "349e67a5",
   "metadata": {
    "scrolled": true
   },
   "outputs": [],
   "source": [
    "path_to_annotation_directory = \"annotation/\"\n",
    "genes_annot = {}\n",
    "\n",
    "for annotation_file in os.listdir(path_to_annotation_directory):\n",
    "    with open(os.path.join(path_to_annotation_directory, annotation_file), \"r\") as annotation:\n",
    "        for line in annotation:\n",
    "            for gene in species_genes_dic[annotation_file.split(\".\")[0]]:\n",
    "                gene = gene.strip()\n",
    "                if re.search(gene, line):\n",
    "                    # In some cases - there are several mrnas per gene, transcriptome data only for one gene anyway...\n",
    "                    if re.search(\"\\tgene\\t\", line):\n",
    "                        genes_annot[gene] = extract_annotation(line)\n",
    "                    # Sometimes no genes, just mRNAs\n",
    "                    elif re.search(\"\\tmRNA\\t\", line) and gene not in genes_annot.keys():\n",
    "                        genes_annot[gene] = extract_annotation(line)"
   ]
  },
  {
   "cell_type": "code",
   "execution_count": 379,
   "id": "950795fa",
   "metadata": {},
   "outputs": [
    {
     "data": {
      "text/plain": [
       "{'AT1G76750': ['1', 28811040, 28811721, '+'],\n",
       " 'AT2G21740': ['2', 9281986, 9282387, '-'],\n",
       " 'AT2G21750': ['2', 9283367, 9283774, '-'],\n",
       " 'AT4G39340': ['4', 18293129, 18293512, '-'],\n",
       " 'CEY00_Acc08092': ['LG7', 10802354, 10802982, '+'],\n",
       " 'AMTR_s00017p00240840': ['AmTr_v1.0_scaffold00017', 5583736, 5584116, '-'],\n",
       " 'evm.TU.01.1369': ['1', 28222687, 28223799, '+'],\n",
       " 'evm.TU.04.1284': ['4', 55910526, 55911011, '-'],\n",
       " 'Csa10g002090': ['10', 519756, 520130, '-'],\n",
       " 'Csa11g002350': ['11', 625946, 626465, '-'],\n",
       " 'Csa12g002210': ['12', 549257, 549631, '-'],\n",
       " 'Csa16g040920': ['16', 20922943, 20923398, '+'],\n",
       " 'Csa16g043520': ['16', 22265372, 22265749, '-'],\n",
       " 'Csa16g043530': ['16', 22269739, 22270303, '-'],\n",
       " 'Csa07g048320': ['7', 24873026, 24873481, '+'],\n",
       " 'Csa07g048380': ['7', 24897835, 24897996, '-'],\n",
       " 'Csa07g051880': ['7', 26379055, 26380122, '-'],\n",
       " 'Csa07g051890': ['7', 26380818, 26381239, '-'],\n",
       " 'Csa09g081500': ['9', 30963380, 30963838, '+'],\n",
       " 'Csa09g086140': ['9', 32294595, 32294972, '-'],\n",
       " 'Csa09g086150': ['9', 32295787, 32296167, '-'],\n",
       " 'Csa27089s010': ['unpScaffold27089', 1, 240, '+'],\n",
       " 'VIT_07s0031g02070': ['7', 18225070, 18225477, '+'],\n",
       " 'VIT_09s0002g01570': ['9', 1370944, 1371330, '-'],\n",
       " 'Bo1g002490': ['C1', 210647, 211042, '-'],\n",
       " 'Bo2g088760': ['C2', 24151271, 24152272, '+'],\n",
       " 'Bo2g091120': ['C2', 24526743, 24527210, '+'],\n",
       " 'Bo4g147120': ['C4', 40069735, 40070109, '-'],\n",
       " 'Bo6g083750': ['C6', 26292083, 26292496, '-'],\n",
       " 'Bo7g119230': ['C7', 48043899, 48044285, '+'],\n",
       " 'Bo8g101500': ['C8', 35648573, 35648956, '+'],\n",
       " 'POPTR_001G306600v3': ['1', 30971024, 30971464, '+'],\n",
       " 'POPTR_001G306700v3': ['1', 30972858, 30973250, '+'],\n",
       " 'POPTR_001G353600v3': ['1', 36133779, 36134192, '-'],\n",
       " 'POPTR_011G078400v3': ['11', 7771088, 7771219, '+'],\n",
       " 'POPTR_003G191800v3': ['3', 19596130, 19596549, '+'],\n",
       " 'POPTR_009G077000v3': ['9', 7446378, 7446812, '-'],\n",
       " 'Os11g0168000': ['11', 3288494, 3289070, '-'],\n",
       " 'Os03g0296600': ['3', 10380090, 10380764, '+'],\n",
       " 'TraesCS4A02G113600': ['4A', 137894704, 137895177, '+'],\n",
       " 'TraesCS4A02G208200': ['4A', 501243616, 501244080, '+'],\n",
       " 'TraesCS4B02G111900': ['4B', 125425601, 125426079, '+'],\n",
       " 'TraesCS4B02G190500': ['4B', 413190783, 413191280, '-'],\n",
       " 'TraesCS4D02G109400': ['4D', 88471869, 88472333, '+'],\n",
       " 'TraesCS7A02G451500': ['7A', 644681544, 644682038, '+'],\n",
       " 'TraesCS7A02G451600': ['7A', 644706293, 644706748, '+'],\n",
       " 'TraesCS7B02G351300': ['7B', 608364310, 608364816, '+'],\n",
       " 'TraesCS7B02G351400': ['7B', 608375332, 608375784, '+'],\n",
       " 'TraesCS7D02G440400': ['7D', 560576119, 560576619, '+'],\n",
       " 'TraesCS7D02G440500': ['7D', 560580320, 560580775, '+'],\n",
       " 'FvH4_1g23830.t1': ['Fvb1', 15703130, 15703837, '-'],\n",
       " 'FvH4_2g13390.t1': ['Fvb2', 11706931, 11707587, '+'],\n",
       " 'FvH4_2g13400.t1': ['Fvb2', 11713620, 11714200, '+'],\n",
       " 'FvH4_2g18700.t1': ['Fvb2', 15982578, 15983179, '-'],\n",
       " 'FvH4_2g18870.t1': ['Fvb2', 16092333, 16092749, '+'],\n",
       " 'FvH4_2g18910.t1': ['Fvb2', 16102045, 16102931, '+'],\n",
       " 'FvH4_4g25660.t1': ['Fvb4', 27383498, 27383899, '+'],\n",
       " 'FvH4_5g02500.t1': ['Fvb5', 1514942, 1515646, '+'],\n",
       " 'MTR_3g049180': ['3', 18346047, 18346484, '+'],\n",
       " 'MTR_3g049320': ['3', 18357875, 18358313, '+'],\n",
       " 'MTR_3g095330': ['3', 43558929, 43559330, '+'],\n",
       " 'MTR_8g099500': ['8', 42005115, 42005540, '-'],\n",
       " 'PEQU_28350.1': ['Scaffold000268', 142447, 142845, '+'],\n",
       " 'HORVU4Hr1G020010': ['chr4H', 96972230, 96972926, '-'],\n",
       " 'HORVU4Hr1G055410': ['chr4H', 464139525, 464143094, '-'],\n",
       " 'HORVU7Hr1G101980': ['chr7H', 610995259, 610995996, '+'],\n",
       " 'HORVU7Hr1G102010': ['chr7H', 611048944, 611049445, '-'],\n",
       " 'MD01G1001000': ['Chr01', 264113, 264565, '+'],\n",
       " 'MD10G1029400': ['Chr10', 3852400, 3852861, '-'],\n",
       " 'MD15G1340900': ['Chr15', 38602975, 38603424, '+'],\n",
       " 'GLYMA_10G223600': ['10', 45458315, 45458750, '+'],\n",
       " 'GLYMA_18G103100': ['18', 11027702, 11028092, '-'],\n",
       " 'GLYMA_20G168300': ['20', 40597824, 40598249, '-'],\n",
       " 'GLYMA_04G164700': ['4', 41098678, 41099094, '-'],\n",
       " 'GLYMA_05G187500': ['5', 37377971, 37378333, '+'],\n",
       " 'GLYMA_06G199900': ['6', 18298228, 18298641, '+'],\n",
       " 'GLYMA_08G145800': ['8', 11088887, 11089249, '+'],\n",
       " 'GLYMA_09G195200': ['9', 41983971, 41984372, '+'],\n",
       " 'A4A49_17836': ['scaffold01266', 75575, 76079, '-'],\n",
       " 'Bradi1g65190.1.p': ['Bd1', 64471722, 64472623, '-'],\n",
       " 'Bradi2g28070.1.p': ['Bd2', 27278956, 27284798, '+'],\n",
       " 'Bradi4g24640.1.p': ['Bd4', 29788908, 29789807, '+'],\n",
       " 'SORBI_3001G403900': ['1', 68895115, 68895630, '-'],\n",
       " 'SORBI_3008G049300': ['8', 4864848, 4866437, '-'],\n",
       " 'Solyc11g005500.1': ['11', 384871, 385263, '-'],\n",
       " 'Solyc11g005540.1': ['11', 401870, 402280, '-'],\n",
       " 'Solyc04g071640.1': ['4', 58692824, 58693213, '-'],\n",
       " 'RHC11H1G0771.2': ['11', 10653626, 10654048, '+'],\n",
       " 'RHC11H1G0775.2': ['11', 10705481, 10705876, '+'],\n",
       " 'RHC04H1G2339.2': ['4', 74288737, 74289129, '-'],\n",
       " 'Zm00001eb396810': ['9', 143234903, 143235575, '-']}"
      ]
     },
     "execution_count": 379,
     "metadata": {},
     "output_type": "execute_result"
    }
   ],
   "source": [
    "genes_annot"
   ]
  },
  {
   "cell_type": "markdown",
   "id": "dfcd60e5",
   "metadata": {},
   "source": [
    "Here, we rename *Malus domestica* genome file, so that it corresponds to species name."
   ]
  },
  {
   "cell_type": "code",
   "execution_count": 129,
   "id": "19c3686f",
   "metadata": {},
   "outputs": [],
   "source": [
    "!mv genome/Mdomestica_491_GDDH13v1.1.fa genome/Mdomestica_491_v1.1.fa"
   ]
  },
  {
   "cell_type": "markdown",
   "id": "431db4f7",
   "metadata": {},
   "source": [
    "Now we save 500 bp nucleotide upstream sequences. "
   ]
  },
  {
   "cell_type": "code",
   "execution_count": 380,
   "id": "92f078c8",
   "metadata": {},
   "outputs": [
    {
     "name": "stdout",
     "output_type": "stream",
     "text": [
      "Camelina_sativa.Cs.dna_sm.toplevel.fa\n",
      "Populus_trichocarpa.Pop_tri_v3.dna_sm.toplevel.fa\n",
      "Mdomestica_491_v1.1.fa\n",
      "Zea_mays.Zm-B73-REFERENCE-NAM-5.0.dna_sm.toplevel.fa\n",
      "Triticum_aestivum.IWGSC.dna_sm.toplevel.fa\n",
      "Solanum_lycopersicum.SL3.0.dna_sm.toplevel.fa\n",
      "Brassica_oleracea.BOL.dna_sm.toplevel.fa\n",
      "Vitis_vinifera.12X.dna_sm.toplevel.fa\n",
      "Hordeum_vulgare.IBSC_v2.dna_sm.toplevel.fa\n",
      "Amborella_trichopoda.AMTR1.0.dna_sm.toplevel.fa\n",
      "Phalaenopsis_equestris.fa\n",
      "Arabidopsis_thaliana.TAIR10.dna_sm.toplevel.fa\n",
      "Solanum_tuberosum_rh8903916.ASM1418947v1.dna_sm.toplevel.fa\n",
      "Oryza_sativa.IRGSP-1.0.dna_sm.toplevel.fa\n",
      "Actinidia_chinensis.Red5_PS1_1.69.0.dna_sm.toplevel.fa\n",
      "Nicotiana_attenuata.NIATTr2.dna_sm.toplevel.fa\n",
      "Medicago_truncatula.MedtrA17_4.0.dna_sm.toplevel.fa\n",
      "Fvesca_677_v4.0.a1.softmasked.fa\n",
      "Glycine_max.Glycine_max_v2.1.dna_sm.toplevel.fa\n",
      "Cannabis_sativa_female.cs10.dna_sm.toplevel.fa\n",
      "Bdistachyon_314_v3.0.softmasked.fa\n",
      "Sorghum_bicolor.Sorghum_bicolor_NCBIv3.dna_sm.toplevel.fa\n"
     ]
    }
   ],
   "source": [
    "upstream_length = 500\n",
    "           \n",
    "genome_input_directory = \"genome/\"        \n",
    "output_file = \"upstream_sequences.fa\"\n",
    "\n",
    "if os.path.exists(output_file):\n",
    "    os.remove(output_file)\n",
    "\n",
    "# Going over each FASTA file\n",
    "for fasta_file in os.listdir(genome_input_directory):\n",
    "    with open(os.path.join(genome_input_directory, fasta_file), \"r\") as fasta_input, open(output_file, \"a\") as fasta_output:\n",
    "        for record in SeqIO.parse(fasta_input, \"fasta\"):\n",
    "            for gene in species_genes_dic[fasta_file.split(\".\")[0]]:\n",
    "                gene = gene.strip()\n",
    "                # Saving the variable names\n",
    "                contig_id = genes_annot[gene][0]\n",
    "                start = genes_annot[gene][1]\n",
    "                end = genes_annot[gene][2]   \n",
    "                strand_direction = genes_annot[gene][3]\n",
    "                # Checking the strand direction\n",
    "                if strand_direction == \"+\":\n",
    "                    # Choosing the right contig\n",
    "                    if record.id == contig_id:\n",
    "                        # Writing output\n",
    "                        fasta_output.write(\">\" + gene + \"\\n\" + str(record.seq[start-upstream_length-1:start-1]) + \"\\n\")\n",
    "                elif strand_direction == \"-\":\n",
    "                    if record.id == contig_id:\n",
    "                        fasta_output.write(\">\" + gene + \"\\n\" + str(record.seq[end:end + upstream_length].reverse_complement()) + \"\\n\")\n"
   ]
  },
  {
   "cell_type": "markdown",
   "id": "7a60a62b",
   "metadata": {},
   "source": [
    "Finally, we have the upstream sequences. We divide the sequences into 3 groups, and three separate FASTA files:\n",
    "1. Generative\n",
    "2. Non-specific\n",
    "3. Vegetative\n",
    "\n",
    "See folder `../Searching_motifs` for further analysis."
   ]
  },
  {
   "cell_type": "code",
   "execution_count": null,
   "id": "cc72ddcb",
   "metadata": {},
   "outputs": [],
   "source": []
  }
 ],
 "metadata": {
  "kernelspec": {
   "display_name": "Python 3",
   "language": "python",
   "name": "python3"
  },
  "language_info": {
   "codemirror_mode": {
    "name": "ipython",
    "version": 3
   },
   "file_extension": ".py",
   "mimetype": "text/x-python",
   "name": "python",
   "nbconvert_exporter": "python",
   "pygments_lexer": "ipython3",
   "version": "3.8.8"
  }
 },
 "nbformat": 4,
 "nbformat_minor": 5
}
